{
 "cells": [
  {
   "cell_type": "markdown",
   "metadata": {},
   "source": [
    "## Deferred Acceptance Algorithm"
   ]
  },
  {
   "cell_type": "code",
   "execution_count": 1,
   "metadata": {},
   "outputs": [],
   "source": [
    "from numpy import array,empty,zeros\n",
    "from random import shuffle"
   ]
  },
  {
   "cell_type": "code",
   "execution_count": 2,
   "metadata": {},
   "outputs": [],
   "source": [
    "class Student:\n",
    "    def __init__(self,id, preferences):\n",
    "        self.id = id\n",
    "        self.prefs = preferences\n",
    "        self.match = False\n",
    "        self.last_offer_to = False\n",
    "        self.target = 0\n",
    "        self.rejection_list = []\n",
    "        self.rejection = 0\n",
    "        self.initialize()\n",
    "        \n",
    "    def initialize(self):\n",
    "        self.HospitalList = []\n",
    "        for k in self.prefs :\n",
    "            self.HospitalList.append(k)\n",
    "            \n",
    "    def start(self, hospitalObjects, studentObjects):\n",
    "        if self.match:\n",
    "            pass\n",
    "        else:\n",
    "            if self.target < len(self.prefs):\n",
    "                self.last_offer_to = self.prefs[self.target]\n",
    "                for k in hospitalObjects:\n",
    "                    if k.id == self.last_offer_to :\n",
    "                        self.target += 1\n",
    "                        self.match = self.last_offer_to\n",
    "                        print('Student ',self.id,'Sending An Offer to Hospital ', self.last_offer_to)\n",
    "                        k.receive_offer(self,studentObjects)\n",
    "            else:\n",
    "                self.match = self\n",
    "                \n",
    "    def receive_rejection(self, hospital):\n",
    "        self.rejection_list.append(hospital)\n",
    "        self.rejection +=1\n",
    "        self.match = False\n",
    "        \n",
    "    def __repr__(self):\n",
    "        return repr(self.id)\n",
    "        "
   ]
  },
  {
   "cell_type": "code",
   "execution_count": null,
   "metadata": {},
   "outputs": [],
   "source": []
  },
  {
   "cell_type": "code",
   "execution_count": 3,
   "metadata": {},
   "outputs": [],
   "source": [
    "poi = []\n",
    "class Hospital:\n",
    "    def __init__(self,id, preferences, capacity = 1):\n",
    "        self.id = id\n",
    "        self.prefs = preferences\n",
    "        self.current_match = None\n",
    "        self.current_deferred = None\n",
    "        self.all_rejected = []\n",
    "        self.initialize()\n",
    "        self.capacity = capacity\n",
    "        self.held = set()\n",
    "    \n",
    "    def initialize(self):\n",
    "        self.StudentList = self.prefs\n",
    "            \n",
    "    def prefers(self,new_student):\n",
    "        if self.current_deferred != None:\n",
    "            print('There is currently a deferred request from student ', self.current_deferred)\n",
    "            if self.StudentList.index(new_student) < self.StudentList.index(self.current_deferred):\n",
    "                self.current_match = True\n",
    "                print('Hospital ', self.id, 'prefer student ', new_student)\n",
    "                return True\n",
    "            else:\n",
    "                print('Hospital ', self.id, 'doesnt prefer student ', new_student)\n",
    "                self.current_match = False\n",
    "                return False\n",
    "        else:\n",
    "            print('There is currently no deferred request from any student, so student ', new_student, 'was prefered')\n",
    "            self.current_match = True\n",
    "            return True\n",
    "            \n",
    "    def receive_offer(self,new_student, studentObject):\n",
    "        print('Hospital ', self.id,'is recieving An Offer from Student ', new_student)\n",
    "        print ('Checking if Hospital ', self.id, 'prefers ',new_student)\n",
    "        if self.prefers(new_student):\n",
    "            print('Status recieved!!! ... Hospital ', self.id, 'Prefers ', new_student)\n",
    "            if self.current_deferred != None:\n",
    "#                 self.deferred_accept(new_student)\n",
    "                self.current_deferred = new_student\n",
    "            else:\n",
    "                for k in studentObject:\n",
    "                    if k.id == self.current_deferred :\n",
    "    #                     if self.current_deferred != None:\n",
    "#                         self.deferred_accept(new_student)\n",
    "                        self.current_deferred = new_student\n",
    "                        self.reject(self.current_deferred)\n",
    "                        print('Hospital ', self.id, 'just rejected student ',self.current_deferred ,'for student', new_student)\n",
    "                        k.recieve_rejection(self.id)\n",
    "        else:\n",
    "            print('Status recieved!!! ... Hospital ', self.id, 'Doesnt Prefers ', new_student, 'over ',self.current_deferred)\n",
    "            for k in studentObject:\n",
    "                if k.id == new_student :\n",
    "                    k.recieve_rejection()\n",
    "                    self.reject(new_student)\n",
    "                    print('Request from student ', new_student, 'Has been rejected because he is not prefered')\n",
    "\n",
    "#     def deferred_accept(self, new_student):\n",
    "#         self.current_deferred = new_student\n",
    "#         print(\"Hioh\")\n",
    "# #         OverviewMatrice[TotalHospitals.index(hospital.id), TotalStudents.index(newstudent.id)] +=1\n",
    "    \n",
    "    def reject(self, new_student):\n",
    "        \n",
    "        self.all_rejected. append(new_student) \n",
    "#     OverviewMatrice[TotalHospitals.index(hospital.id), TotalStudents.index(newstudent.id)] += 2\n",
    "            \n",
    "    def __repr__(self):\n",
    "        return repr(self.id)\n",
    "            "
   ]
  },
  {
   "cell_type": "code",
   "execution_count": null,
   "metadata": {},
   "outputs": [],
   "source": []
  },
  {
   "cell_type": "code",
   "execution_count": 4,
   "metadata": {},
   "outputs": [],
   "source": [
    "# stableMatching: [Student], [School] -> {School -> [Student]}\n",
    "# construct a stable matching between students and schools\n",
    "def stableMatching(students, hospitals):\n",
    "   unassigned = set(students)\n",
    "\n",
    "   while len(unassigned) > 0:\n",
    "      for student in unassigned:\n",
    "        student.start()\n",
    "        print(student.rejection_list)\n",
    "    \n",
    "\n",
    "            \n",
    "            \n",
    "            \n",
    "#       unassigned = set()\n",
    "\n",
    "#       for hospital in hospitals:\n",
    "#          unassigned |= hospital.reject()\n",
    "\n",
    "#       for student in unassigned:\n",
    "#          student.rejections += 1\n",
    "\n",
    "\n",
    "#    matching = list()\n",
    "\n",
    "#    for student in students:\n",
    "#          matching.append(student.prefList[student.rejections])\n",
    "\n",
    "#    return matching\n"
   ]
  },
  {
   "cell_type": "code",
   "execution_count": null,
   "metadata": {},
   "outputs": [
    {
     "name": "stdout",
     "output_type": "stream",
     "text": [
      "Hospital  9 Sending An Offer to Hospital  4\n",
      "Hospital  4 is recieving An Offer from Student  9\n",
      "Checking if Hospital  4 prefers  9\n",
      "There is currently no deferred request from any student, so student  9 was prefered\n",
      "Status recieved!!! ... Hospital  4 Prefers  9\n",
      "Hospital  1 Sending An Offer to Hospital  6\n",
      "Hospital  6 is recieving An Offer from Student  1\n",
      "Checking if Hospital  6 prefers  1\n",
      "There is currently no deferred request from any student, so student  1 was prefered\n",
      "Status recieved!!! ... Hospital  6 Prefers  1\n",
      "Hospital  2 Sending An Offer to Hospital  4\n",
      "Hospital  4 is recieving An Offer from Student  2\n",
      "Checking if Hospital  4 prefers  2\n",
      "There is currently no deferred request from any student, so student  2 was prefered\n",
      "Status recieved!!! ... Hospital  4 Prefers  2\n"
     ]
    }
   ],
   "source": [
    "if __name__ == \"__main__\":\n",
    "    from unittest import test\n",
    "\n",
    "\n",
    "    students = [Student(9, [4,6,5]), Student(1, [6,5,4]),Student(2, [4,5,6])]\n",
    "    hospitals = [Hospital(4, [9,1,2]), Hospital(5, [9,2,1]), Hospital(6, [2,9,1])]\n",
    "    unassigned = set(students)\n",
    "\n",
    "    while len(unassigned) > 0:\n",
    "        for student in students:\n",
    "            student.start(hospitals,students)\n",
    "        unassigned = set()\n",
    "\n",
    "    for school in schools:\n",
    "        unassigned |= school.reject()\n",
    "\n",
    "    for student in unassigned:\n",
    "        student.rejections += 1\n",
    "            \n",
    "#             print(student.rejection_list)\n"
   ]
  },
  {
   "cell_type": "code",
   "execution_count": 5,
   "metadata": {},
   "outputs": [
    {
     "name": "stdout",
     "output_type": "stream",
     "text": [
      "[]\n"
     ]
    }
   ],
   "source": [
    "# for i in hospitals:\n",
    "#     print(i.id)\n",
    "# #     i.receive_offer()\n",
    "print(poi)"
   ]
  },
  {
   "cell_type": "code",
   "execution_count": null,
   "metadata": {},
   "outputs": [],
   "source": []
  },
  {
   "cell_type": "code",
   "execution_count": null,
   "metadata": {},
   "outputs": [],
   "source": []
  },
  {
   "cell_type": "code",
   "execution_count": null,
   "metadata": {},
   "outputs": [],
   "source": []
  }
 ],
 "metadata": {
  "kernelspec": {
   "display_name": "Python 3",
   "language": "python",
   "name": "python3"
  },
  "language_info": {
   "codemirror_mode": {
    "name": "ipython",
    "version": 3
   },
   "file_extension": ".py",
   "mimetype": "text/x-python",
   "name": "python",
   "nbconvert_exporter": "python",
   "pygments_lexer": "ipython3",
   "version": "3.6.5"
  }
 },
 "nbformat": 4,
 "nbformat_minor": 2
}
